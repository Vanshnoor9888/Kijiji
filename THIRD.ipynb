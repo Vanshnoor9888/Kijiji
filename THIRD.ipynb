{
  "cells": [
    {
      "cell_type": "markdown",
      "source": [
        "#IMPORTING LIBRARIES"
      ],
      "metadata": {
        "id": "s6xnMc9da5SO"
      }
    },
    {
      "cell_type": "code",
      "execution_count": 1,
      "metadata": {
        "id": "L84HMOPNOQo-"
      },
      "outputs": [],
      "source": [
        "import pandas as pd\n",
        "import numpy as np\n",
        "from sklearn.model_selection import train_test_split\n",
        "from sklearn.linear_model import LogisticRegression\n",
        "from sklearn.tree import DecisionTreeClassifier\n",
        "from sklearn.neighbors import KNeighborsClassifier\n",
        "from sklearn.ensemble import GradientBoostingClassifier\n",
        "from sklearn.preprocessing import StandardScaler\n",
        "from sklearn.metrics import accuracy_score, f1_score\n",
        "from sklearn.model_selection import cross_val_score, KFold\n",
        "from sklearn.model_selection import GridSearchCV\n"
      ]
    },
    {
      "cell_type": "markdown",
      "source": [
        "- READING CSV FILES"
      ],
      "metadata": {
        "id": "tdEz2k-ya80j"
      }
    },
    {
      "cell_type": "code",
      "execution_count": 2,
      "metadata": {
        "id": "pbOON65G88g5"
      },
      "outputs": [],
      "source": [
        "import pandas as pd\n",
        "df_1= pd.read_csv('kijiji.csv')\n",
        "df_2 = pd.read_csv('CSDpop.csv')"
      ]
    },
    {
      "cell_type": "code",
      "execution_count": 3,
      "metadata": {
        "colab": {
          "base_uri": "https://localhost:8080/"
        },
        "id": "Mio-2FZGBO41",
        "outputId": "3a4fce31-e82e-466b-9848-484f4c1f8d38"
      },
      "outputs": [
        {
          "output_type": "execute_result",
          "data": {
            "text/plain": [
              "Index(['CSDUID', 'CSDNAME', 'Latitude', 'Longitude', 'adId', 'Title', 'Type',\n",
              "       'Price', 'Location', 'Bedrooms', 'Bathrooms', 'Hydro', 'Heat', 'Water',\n",
              "       'Size', 'Agreement Type', 'URL', 'Date Posted'],\n",
              "      dtype='object')"
            ]
          },
          "metadata": {},
          "execution_count": 3
        }
      ],
      "source": [
        "df_1.columns"
      ]
    },
    {
      "cell_type": "code",
      "execution_count": 4,
      "metadata": {
        "id": "qW9Bh8F-BiRG"
      },
      "outputs": [],
      "source": [
        "df_1 = df_1.drop(['CSDNAME','Longitude', 'Location', 'Title','adId','URL','Date Posted'],axis=1)"
      ]
    },
    {
      "cell_type": "code",
      "execution_count": 5,
      "metadata": {
        "id": "qgQOEGX1CMlh"
      },
      "outputs": [],
      "source": [
        "df_1['Size'] = pd.to_numeric(df_1['Size'], errors='coerce' )"
      ]
    },
    {
      "cell_type": "markdown",
      "source": [
        "-  This code is setting any \"Size\" values in the DataFrame df_1 that are less than 200 or greater than 7000 to NaN"
      ],
      "metadata": {
        "id": "kYZ7iC4XbLci"
      }
    },
    {
      "cell_type": "code",
      "execution_count": 6,
      "metadata": {
        "id": "ZEIVzWv6CUbR"
      },
      "outputs": [],
      "source": [
        "import numpy as np\n",
        "for index, row in df_1.iterrows ():\n",
        "   if row[\"Size\"] < 200 or row[\"Size\"] > 7000:\n",
        "      df_1.at [index, 'Size'] = np. nan"
      ]
    },
    {
      "cell_type": "markdown",
      "source": [
        "- FILLING NULL VALUES WITH MEAN IN SIZE COLUMN."
      ],
      "metadata": {
        "id": "VRb0vlpVbQpD"
      }
    },
    {
      "cell_type": "code",
      "execution_count": 7,
      "metadata": {
        "id": "fVYisfCCCbv1"
      },
      "outputs": [],
      "source": [
        "df_1['Size'].fillna(value=df_1.Size.mean(), inplace=True)"
      ]
    },
    {
      "cell_type": "code",
      "execution_count": 8,
      "metadata": {
        "id": "FUqgvmVID5Ek"
      },
      "outputs": [],
      "source": [
        "df_1['Price'] = df_1['Price'].str.replace('$','')\n",
        "df_1['Price'] = df_1['Price'].str.replace(',','')\n",
        "df_1['Price'] = pd.to_numeric(df_1['Price'], errors='coerce' )"
      ]
    },
    {
      "cell_type": "code",
      "execution_count": 9,
      "metadata": {
        "id": "R1Y0KPoZFRZD"
      },
      "outputs": [],
      "source": [
        "merged_df_1 = df_1.merge(df_2, on ='CSDUID', how= 'left')"
      ]
    },
    {
      "cell_type": "code",
      "execution_count": 10,
      "metadata": {
        "colab": {
          "base_uri": "https://localhost:8080/"
        },
        "id": "aRnT9XVPFidu",
        "outputId": "f8749345-c408-4943-eeeb-849be27bdfe2"
      },
      "outputs": [
        {
          "output_type": "execute_result",
          "data": {
            "text/plain": [
              "Index(['CSDUID', 'Latitude', 'Type', 'Price', 'Bedrooms', 'Bathrooms', 'Hydro',\n",
              "       'Heat', 'Water', 'Size', 'Agreement Type', 'Population'],\n",
              "      dtype='object')"
            ]
          },
          "metadata": {},
          "execution_count": 10
        }
      ],
      "source": [
        "merged_df_1.columns"
      ]
    },
    {
      "cell_type": "code",
      "execution_count": 11,
      "metadata": {
        "id": "fq_kRwkgF_hd"
      },
      "outputs": [],
      "source": [
        "merged_df_1 = merged_df_1.drop(['CSDUID'],axis=1)"
      ]
    },
    {
      "cell_type": "code",
      "execution_count": 12,
      "metadata": {
        "colab": {
          "base_uri": "https://localhost:8080/"
        },
        "id": "nZjt7HKdGdSX",
        "outputId": "0abb594b-d30b-4d2b-cdb8-90a503b06011"
      },
      "outputs": [
        {
          "output_type": "execute_result",
          "data": {
            "text/plain": [
              "Type\n",
              "Apartment         9685\n",
              "House             5526\n",
              "Basement          3689\n",
              "Condo             3419\n",
              "Townhouse         2399\n",
              "Duplex/Triplex    1014\n",
              "Name: count, dtype: int64"
            ]
          },
          "metadata": {},
          "execution_count": 12
        }
      ],
      "source": [
        "merged_df_1['Type'].value_counts()"
      ]
    },
    {
      "cell_type": "markdown",
      "source": [
        "- This code categorizes the prices in the \"Price\" column of merged_df_1 into three categories (\"low\", \"Medium\", \"High\") based on the defined conditions, and stores the result in a new column \"Price_Category\"."
      ],
      "metadata": {
        "id": "Uh9ZF8Xnbf4Y"
      }
    },
    {
      "cell_type": "code",
      "execution_count": 13,
      "metadata": {
        "id": "yW-nl6Q5PJWm"
      },
      "outputs": [],
      "source": [
        "def priceConvert(p):\n",
        "  if p <= 1400:\n",
        "    return \"low\"\n",
        "  elif p <= 2000 and p >= 1400:\n",
        "    return \"Medium\"\n",
        "  elif p > 2000:\n",
        "    return \"High\"\n",
        "\n",
        "merged_df_1[\"Price_Category\"] = merged_df_1[\"Price\"].apply(priceConvert)"
      ]
    },
    {
      "cell_type": "code",
      "execution_count": 14,
      "metadata": {
        "colab": {
          "base_uri": "https://localhost:8080/"
        },
        "id": "4dA9z41bSECi",
        "outputId": "693789a1-269d-43cf-cc9d-ec810536c72f"
      },
      "outputs": [
        {
          "output_type": "execute_result",
          "data": {
            "text/plain": [
              "0    Medium\n",
              "1       low\n",
              "2      High\n",
              "3       low\n",
              "4      High\n",
              "Name: Price_Category, dtype: object"
            ]
          },
          "metadata": {},
          "execution_count": 14
        }
      ],
      "source": [
        "merged_df_1['Price_Category'].head()"
      ]
    },
    {
      "cell_type": "code",
      "execution_count": 15,
      "metadata": {
        "colab": {
          "base_uri": "https://localhost:8080/",
          "height": 206
        },
        "id": "zHQxkGx2DHFq",
        "outputId": "0723358a-a4f8-4e12-aacf-0e4eb47207e1"
      },
      "outputs": [
        {
          "output_type": "execute_result",
          "data": {
            "text/plain": [
              "    Latitude       Type   Price           Bedrooms       Bathrooms Hydro Heat  \\\n",
              "0  45.256161  Apartment  1425.0        Bedrooms: 2    Bathrooms: 1     N    Y   \n",
              "1  45.192003  Apartment  1100.0        Bedrooms: 2    Bathrooms: 1     N    N   \n",
              "2  45.146672      House  2700.0        Bedrooms: 3  Bathrooms: 2.5     N    Y   \n",
              "3  45.143726      House  1200.0        Bedrooms: 2  Bathrooms: 1.5     N    N   \n",
              "4  45.068973      House  4000.0  Bedrooms: 2 + Den    Bathrooms: 3     N    Y   \n",
              "\n",
              "  Water        Size Agreement Type  Population Price_Category  \n",
              "0     Y  950.000000         1 Year       14211         Medium  \n",
              "1     Y  780.000000         1 Year       14211            low  \n",
              "2     Y  693.228433         1 Year       14211           High  \n",
              "3     Y  900.000000         1 Year       14211            low  \n",
              "4     Y  693.228433         1 Year       14211           High  "
            ],
            "text/html": [
              "\n",
              "  <div id=\"df-f62498f1-30dc-4a67-86fe-e69404693e7f\" class=\"colab-df-container\">\n",
              "    <div>\n",
              "<style scoped>\n",
              "    .dataframe tbody tr th:only-of-type {\n",
              "        vertical-align: middle;\n",
              "    }\n",
              "\n",
              "    .dataframe tbody tr th {\n",
              "        vertical-align: top;\n",
              "    }\n",
              "\n",
              "    .dataframe thead th {\n",
              "        text-align: right;\n",
              "    }\n",
              "</style>\n",
              "<table border=\"1\" class=\"dataframe\">\n",
              "  <thead>\n",
              "    <tr style=\"text-align: right;\">\n",
              "      <th></th>\n",
              "      <th>Latitude</th>\n",
              "      <th>Type</th>\n",
              "      <th>Price</th>\n",
              "      <th>Bedrooms</th>\n",
              "      <th>Bathrooms</th>\n",
              "      <th>Hydro</th>\n",
              "      <th>Heat</th>\n",
              "      <th>Water</th>\n",
              "      <th>Size</th>\n",
              "      <th>Agreement Type</th>\n",
              "      <th>Population</th>\n",
              "      <th>Price_Category</th>\n",
              "    </tr>\n",
              "  </thead>\n",
              "  <tbody>\n",
              "    <tr>\n",
              "      <th>0</th>\n",
              "      <td>45.256161</td>\n",
              "      <td>Apartment</td>\n",
              "      <td>1425.0</td>\n",
              "      <td>Bedrooms: 2</td>\n",
              "      <td>Bathrooms: 1</td>\n",
              "      <td>N</td>\n",
              "      <td>Y</td>\n",
              "      <td>Y</td>\n",
              "      <td>950.000000</td>\n",
              "      <td>1 Year</td>\n",
              "      <td>14211</td>\n",
              "      <td>Medium</td>\n",
              "    </tr>\n",
              "    <tr>\n",
              "      <th>1</th>\n",
              "      <td>45.192003</td>\n",
              "      <td>Apartment</td>\n",
              "      <td>1100.0</td>\n",
              "      <td>Bedrooms: 2</td>\n",
              "      <td>Bathrooms: 1</td>\n",
              "      <td>N</td>\n",
              "      <td>N</td>\n",
              "      <td>Y</td>\n",
              "      <td>780.000000</td>\n",
              "      <td>1 Year</td>\n",
              "      <td>14211</td>\n",
              "      <td>low</td>\n",
              "    </tr>\n",
              "    <tr>\n",
              "      <th>2</th>\n",
              "      <td>45.146672</td>\n",
              "      <td>House</td>\n",
              "      <td>2700.0</td>\n",
              "      <td>Bedrooms: 3</td>\n",
              "      <td>Bathrooms: 2.5</td>\n",
              "      <td>N</td>\n",
              "      <td>Y</td>\n",
              "      <td>Y</td>\n",
              "      <td>693.228433</td>\n",
              "      <td>1 Year</td>\n",
              "      <td>14211</td>\n",
              "      <td>High</td>\n",
              "    </tr>\n",
              "    <tr>\n",
              "      <th>3</th>\n",
              "      <td>45.143726</td>\n",
              "      <td>House</td>\n",
              "      <td>1200.0</td>\n",
              "      <td>Bedrooms: 2</td>\n",
              "      <td>Bathrooms: 1.5</td>\n",
              "      <td>N</td>\n",
              "      <td>N</td>\n",
              "      <td>Y</td>\n",
              "      <td>900.000000</td>\n",
              "      <td>1 Year</td>\n",
              "      <td>14211</td>\n",
              "      <td>low</td>\n",
              "    </tr>\n",
              "    <tr>\n",
              "      <th>4</th>\n",
              "      <td>45.068973</td>\n",
              "      <td>House</td>\n",
              "      <td>4000.0</td>\n",
              "      <td>Bedrooms: 2 + Den</td>\n",
              "      <td>Bathrooms: 3</td>\n",
              "      <td>N</td>\n",
              "      <td>Y</td>\n",
              "      <td>Y</td>\n",
              "      <td>693.228433</td>\n",
              "      <td>1 Year</td>\n",
              "      <td>14211</td>\n",
              "      <td>High</td>\n",
              "    </tr>\n",
              "  </tbody>\n",
              "</table>\n",
              "</div>\n",
              "    <div class=\"colab-df-buttons\">\n",
              "\n",
              "  <div class=\"colab-df-container\">\n",
              "    <button class=\"colab-df-convert\" onclick=\"convertToInteractive('df-f62498f1-30dc-4a67-86fe-e69404693e7f')\"\n",
              "            title=\"Convert this dataframe to an interactive table.\"\n",
              "            style=\"display:none;\">\n",
              "\n",
              "  <svg xmlns=\"http://www.w3.org/2000/svg\" height=\"24px\" viewBox=\"0 -960 960 960\">\n",
              "    <path d=\"M120-120v-720h720v720H120Zm60-500h600v-160H180v160Zm220 220h160v-160H400v160Zm0 220h160v-160H400v160ZM180-400h160v-160H180v160Zm440 0h160v-160H620v160ZM180-180h160v-160H180v160Zm440 0h160v-160H620v160Z\"/>\n",
              "  </svg>\n",
              "    </button>\n",
              "\n",
              "  <style>\n",
              "    .colab-df-container {\n",
              "      display:flex;\n",
              "      gap: 12px;\n",
              "    }\n",
              "\n",
              "    .colab-df-convert {\n",
              "      background-color: #E8F0FE;\n",
              "      border: none;\n",
              "      border-radius: 50%;\n",
              "      cursor: pointer;\n",
              "      display: none;\n",
              "      fill: #1967D2;\n",
              "      height: 32px;\n",
              "      padding: 0 0 0 0;\n",
              "      width: 32px;\n",
              "    }\n",
              "\n",
              "    .colab-df-convert:hover {\n",
              "      background-color: #E2EBFA;\n",
              "      box-shadow: 0px 1px 2px rgba(60, 64, 67, 0.3), 0px 1px 3px 1px rgba(60, 64, 67, 0.15);\n",
              "      fill: #174EA6;\n",
              "    }\n",
              "\n",
              "    .colab-df-buttons div {\n",
              "      margin-bottom: 4px;\n",
              "    }\n",
              "\n",
              "    [theme=dark] .colab-df-convert {\n",
              "      background-color: #3B4455;\n",
              "      fill: #D2E3FC;\n",
              "    }\n",
              "\n",
              "    [theme=dark] .colab-df-convert:hover {\n",
              "      background-color: #434B5C;\n",
              "      box-shadow: 0px 1px 3px 1px rgba(0, 0, 0, 0.15);\n",
              "      filter: drop-shadow(0px 1px 2px rgba(0, 0, 0, 0.3));\n",
              "      fill: #FFFFFF;\n",
              "    }\n",
              "  </style>\n",
              "\n",
              "    <script>\n",
              "      const buttonEl =\n",
              "        document.querySelector('#df-f62498f1-30dc-4a67-86fe-e69404693e7f button.colab-df-convert');\n",
              "      buttonEl.style.display =\n",
              "        google.colab.kernel.accessAllowed ? 'block' : 'none';\n",
              "\n",
              "      async function convertToInteractive(key) {\n",
              "        const element = document.querySelector('#df-f62498f1-30dc-4a67-86fe-e69404693e7f');\n",
              "        const dataTable =\n",
              "          await google.colab.kernel.invokeFunction('convertToInteractive',\n",
              "                                                    [key], {});\n",
              "        if (!dataTable) return;\n",
              "\n",
              "        const docLinkHtml = 'Like what you see? Visit the ' +\n",
              "          '<a target=\"_blank\" href=https://colab.research.google.com/notebooks/data_table.ipynb>data table notebook</a>'\n",
              "          + ' to learn more about interactive tables.';\n",
              "        element.innerHTML = '';\n",
              "        dataTable['output_type'] = 'display_data';\n",
              "        await google.colab.output.renderOutput(dataTable, element);\n",
              "        const docLink = document.createElement('div');\n",
              "        docLink.innerHTML = docLinkHtml;\n",
              "        element.appendChild(docLink);\n",
              "      }\n",
              "    </script>\n",
              "  </div>\n",
              "\n",
              "\n",
              "<div id=\"df-4a68a9ac-a1ff-4e40-8891-f72692c45457\">\n",
              "  <button class=\"colab-df-quickchart\" onclick=\"quickchart('df-4a68a9ac-a1ff-4e40-8891-f72692c45457')\"\n",
              "            title=\"Suggest charts\"\n",
              "            style=\"display:none;\">\n",
              "\n",
              "<svg xmlns=\"http://www.w3.org/2000/svg\" height=\"24px\"viewBox=\"0 0 24 24\"\n",
              "     width=\"24px\">\n",
              "    <g>\n",
              "        <path d=\"M19 3H5c-1.1 0-2 .9-2 2v14c0 1.1.9 2 2 2h14c1.1 0 2-.9 2-2V5c0-1.1-.9-2-2-2zM9 17H7v-7h2v7zm4 0h-2V7h2v10zm4 0h-2v-4h2v4z\"/>\n",
              "    </g>\n",
              "</svg>\n",
              "  </button>\n",
              "\n",
              "<style>\n",
              "  .colab-df-quickchart {\n",
              "      --bg-color: #E8F0FE;\n",
              "      --fill-color: #1967D2;\n",
              "      --hover-bg-color: #E2EBFA;\n",
              "      --hover-fill-color: #174EA6;\n",
              "      --disabled-fill-color: #AAA;\n",
              "      --disabled-bg-color: #DDD;\n",
              "  }\n",
              "\n",
              "  [theme=dark] .colab-df-quickchart {\n",
              "      --bg-color: #3B4455;\n",
              "      --fill-color: #D2E3FC;\n",
              "      --hover-bg-color: #434B5C;\n",
              "      --hover-fill-color: #FFFFFF;\n",
              "      --disabled-bg-color: #3B4455;\n",
              "      --disabled-fill-color: #666;\n",
              "  }\n",
              "\n",
              "  .colab-df-quickchart {\n",
              "    background-color: var(--bg-color);\n",
              "    border: none;\n",
              "    border-radius: 50%;\n",
              "    cursor: pointer;\n",
              "    display: none;\n",
              "    fill: var(--fill-color);\n",
              "    height: 32px;\n",
              "    padding: 0;\n",
              "    width: 32px;\n",
              "  }\n",
              "\n",
              "  .colab-df-quickchart:hover {\n",
              "    background-color: var(--hover-bg-color);\n",
              "    box-shadow: 0 1px 2px rgba(60, 64, 67, 0.3), 0 1px 3px 1px rgba(60, 64, 67, 0.15);\n",
              "    fill: var(--button-hover-fill-color);\n",
              "  }\n",
              "\n",
              "  .colab-df-quickchart-complete:disabled,\n",
              "  .colab-df-quickchart-complete:disabled:hover {\n",
              "    background-color: var(--disabled-bg-color);\n",
              "    fill: var(--disabled-fill-color);\n",
              "    box-shadow: none;\n",
              "  }\n",
              "\n",
              "  .colab-df-spinner {\n",
              "    border: 2px solid var(--fill-color);\n",
              "    border-color: transparent;\n",
              "    border-bottom-color: var(--fill-color);\n",
              "    animation:\n",
              "      spin 1s steps(1) infinite;\n",
              "  }\n",
              "\n",
              "  @keyframes spin {\n",
              "    0% {\n",
              "      border-color: transparent;\n",
              "      border-bottom-color: var(--fill-color);\n",
              "      border-left-color: var(--fill-color);\n",
              "    }\n",
              "    20% {\n",
              "      border-color: transparent;\n",
              "      border-left-color: var(--fill-color);\n",
              "      border-top-color: var(--fill-color);\n",
              "    }\n",
              "    30% {\n",
              "      border-color: transparent;\n",
              "      border-left-color: var(--fill-color);\n",
              "      border-top-color: var(--fill-color);\n",
              "      border-right-color: var(--fill-color);\n",
              "    }\n",
              "    40% {\n",
              "      border-color: transparent;\n",
              "      border-right-color: var(--fill-color);\n",
              "      border-top-color: var(--fill-color);\n",
              "    }\n",
              "    60% {\n",
              "      border-color: transparent;\n",
              "      border-right-color: var(--fill-color);\n",
              "    }\n",
              "    80% {\n",
              "      border-color: transparent;\n",
              "      border-right-color: var(--fill-color);\n",
              "      border-bottom-color: var(--fill-color);\n",
              "    }\n",
              "    90% {\n",
              "      border-color: transparent;\n",
              "      border-bottom-color: var(--fill-color);\n",
              "    }\n",
              "  }\n",
              "</style>\n",
              "\n",
              "  <script>\n",
              "    async function quickchart(key) {\n",
              "      const quickchartButtonEl =\n",
              "        document.querySelector('#' + key + ' button');\n",
              "      quickchartButtonEl.disabled = true;  // To prevent multiple clicks.\n",
              "      quickchartButtonEl.classList.add('colab-df-spinner');\n",
              "      try {\n",
              "        const charts = await google.colab.kernel.invokeFunction(\n",
              "            'suggestCharts', [key], {});\n",
              "      } catch (error) {\n",
              "        console.error('Error during call to suggestCharts:', error);\n",
              "      }\n",
              "      quickchartButtonEl.classList.remove('colab-df-spinner');\n",
              "      quickchartButtonEl.classList.add('colab-df-quickchart-complete');\n",
              "    }\n",
              "    (() => {\n",
              "      let quickchartButtonEl =\n",
              "        document.querySelector('#df-4a68a9ac-a1ff-4e40-8891-f72692c45457 button');\n",
              "      quickchartButtonEl.style.display =\n",
              "        google.colab.kernel.accessAllowed ? 'block' : 'none';\n",
              "    })();\n",
              "  </script>\n",
              "</div>\n",
              "\n",
              "    </div>\n",
              "  </div>\n"
            ],
            "application/vnd.google.colaboratory.intrinsic+json": {
              "type": "dataframe",
              "variable_name": "merged_df_1",
              "summary": "{\n  \"name\": \"merged_df_1\",\n  \"rows\": 25732,\n  \"fields\": [\n    {\n      \"column\": \"Latitude\",\n      \"properties\": {\n        \"dtype\": \"number\",\n        \"std\": 0.9598206172702032,\n        \"min\": 41.986668,\n        \"max\": 49.7991595,\n        \"num_unique_values\": 17554,\n        \"samples\": [\n          45.44912,\n          43.7931256,\n          43.6682962\n        ],\n        \"semantic_type\": \"\",\n        \"description\": \"\"\n      }\n    },\n    {\n      \"column\": \"Type\",\n      \"properties\": {\n        \"dtype\": \"category\",\n        \"num_unique_values\": 6,\n        \"samples\": [\n          \"Apartment\",\n          \"House\",\n          \"Condo\"\n        ],\n        \"semantic_type\": \"\",\n        \"description\": \"\"\n      }\n    },\n    {\n      \"column\": \"Price\",\n      \"properties\": {\n        \"dtype\": \"number\",\n        \"std\": 766.0188135845583,\n        \"min\": 285.0,\n        \"max\": 8800.0,\n        \"num_unique_values\": 1281,\n        \"samples\": [\n          325.0,\n          2158.0,\n          1119.0\n        ],\n        \"semantic_type\": \"\",\n        \"description\": \"\"\n      }\n    },\n    {\n      \"column\": \"Bedrooms\",\n      \"properties\": {\n        \"dtype\": \"category\",\n        \"num_unique_values\": 10,\n        \"samples\": [\n          \"Bedrooms: 4 + Den\",\n          \"Bedrooms: 3\",\n          \"Bedrooms: 5+\"\n        ],\n        \"semantic_type\": \"\",\n        \"description\": \"\"\n      }\n    },\n    {\n      \"column\": \"Bathrooms\",\n      \"properties\": {\n        \"dtype\": \"category\",\n        \"num_unique_values\": 11,\n        \"samples\": [\n          \"Bathrooms: 3.5\",\n          \"Bathrooms: 1\",\n          \"Bathrooms: 6+\"\n        ],\n        \"semantic_type\": \"\",\n        \"description\": \"\"\n      }\n    },\n    {\n      \"column\": \"Hydro\",\n      \"properties\": {\n        \"dtype\": \"category\",\n        \"num_unique_values\": 2,\n        \"samples\": [\n          \"Y\",\n          \"N\"\n        ],\n        \"semantic_type\": \"\",\n        \"description\": \"\"\n      }\n    },\n    {\n      \"column\": \"Heat\",\n      \"properties\": {\n        \"dtype\": \"category\",\n        \"num_unique_values\": 2,\n        \"samples\": [\n          \"N\",\n          \"Y\"\n        ],\n        \"semantic_type\": \"\",\n        \"description\": \"\"\n      }\n    },\n    {\n      \"column\": \"Water\",\n      \"properties\": {\n        \"dtype\": \"category\",\n        \"num_unique_values\": 2,\n        \"samples\": [\n          \"N\",\n          \"Y\"\n        ],\n        \"semantic_type\": \"\",\n        \"description\": \"\"\n      }\n    },\n    {\n      \"column\": \"Size\",\n      \"properties\": {\n        \"dtype\": \"number\",\n        \"std\": 107.37732833255835,\n        \"min\": 200.0,\n        \"max\": 999.0,\n        \"num_unique_values\": 656,\n        \"samples\": [\n          437.0,\n          905.0\n        ],\n        \"semantic_type\": \"\",\n        \"description\": \"\"\n      }\n    },\n    {\n      \"column\": \"Agreement Type\",\n      \"properties\": {\n        \"dtype\": \"category\",\n        \"num_unique_values\": 3,\n        \"samples\": [\n          \"1 Year\",\n          \"Month-to-month\"\n        ],\n        \"semantic_type\": \"\",\n        \"description\": \"\"\n      }\n    },\n    {\n      \"column\": \"Population\",\n      \"properties\": {\n        \"dtype\": \"number\",\n        \"std\": 1159861,\n        \"min\": 395,\n        \"max\": 3025647,\n        \"num_unique_values\": 265,\n        \"samples\": [\n          9434,\n          41899\n        ],\n        \"semantic_type\": \"\",\n        \"description\": \"\"\n      }\n    },\n    {\n      \"column\": \"Price_Category\",\n      \"properties\": {\n        \"dtype\": \"category\",\n        \"num_unique_values\": 3,\n        \"samples\": [\n          \"Medium\",\n          \"low\"\n        ],\n        \"semantic_type\": \"\",\n        \"description\": \"\"\n      }\n    }\n  ]\n}"
            }
          },
          "metadata": {},
          "execution_count": 15
        }
      ],
      "source": [
        "merged_df_1.head()"
      ]
    },
    {
      "cell_type": "code",
      "execution_count": 16,
      "metadata": {
        "id": "FXx5QldJGruv"
      },
      "outputs": [],
      "source": [
        "merged_df_1['Type'] = merged_df_1['Type'].astype('category').cat.codes"
      ]
    },
    {
      "cell_type": "markdown",
      "source": [
        "- This process transforms categorical columns into a format that machine learning algorithms can better understand, where each category is represented by a binary (0 or 1) value in its own column."
      ],
      "metadata": {
        "id": "wGWO6xDKbr5q"
      }
    },
    {
      "cell_type": "code",
      "execution_count": 17,
      "metadata": {
        "id": "E-K4YlRtG8_-"
      },
      "outputs": [],
      "source": [
        "one_hot_encoded1 = pd.get_dummies(merged_df_1['Type'], prefix='PropType')\n",
        "one_hot_encoded2 = pd.get_dummies(merged_df_1['Bedrooms'], prefix='Bedrooms')\n",
        "one_hot_encoded3 = pd.get_dummies(merged_df_1['Bathrooms'], prefix='Bathrooms')\n",
        "one_hot_encoded4 = pd. get_dummies(merged_df_1['Hydro'], prefix='Hydro')\n",
        "one_hot_encoded5 = pd. get_dummies(merged_df_1['Heat'], prefix='Heat')\n",
        "one_hot_encoded6 = pd. get_dummies(merged_df_1['Water'], prefix='Water')\n",
        "one_hot_encoded7 = pd. get_dummies(merged_df_1['Agreement Type'], prefix='Agreement')\n",
        "\n",
        "\n",
        "#Concatenate the one-hot encoded columns with the original Dataframe\n",
        "df_encoded = pd.concat([merged_df_1, one_hot_encoded1,one_hot_encoded2, one_hot_encoded3, one_hot_encoded4, one_hot_encoded5, one_hot_encoded6,one_hot_encoded7], axis=1)"
      ]
    },
    {
      "cell_type": "code",
      "execution_count": 18,
      "metadata": {
        "id": "nWAgCooo5VyU"
      },
      "outputs": [],
      "source": [
        "df_encoded = df_encoded.drop(['Type','Bedrooms','Bathrooms','Hydro','Heat','Water','Agreement Type'], axis=1)"
      ]
    },
    {
      "cell_type": "code",
      "execution_count": 19,
      "metadata": {
        "colab": {
          "base_uri": "https://localhost:8080/",
          "height": 273
        },
        "id": "0sJVYSAFHt8d",
        "outputId": "c4a0aca2-eb19-45bd-c854-5f1811792054"
      },
      "outputs": [
        {
          "output_type": "execute_result",
          "data": {
            "text/plain": [
              "    Latitude   Price        Size  Population Price_Category  PropType_0  \\\n",
              "0  45.256161  1425.0  950.000000       14211         Medium        True   \n",
              "1  45.192003  1100.0  780.000000       14211            low        True   \n",
              "2  45.146672  2700.0  693.228433       14211           High       False   \n",
              "3  45.143726  1200.0  900.000000       14211            low       False   \n",
              "4  45.068973  4000.0  693.228433       14211           High       False   \n",
              "\n",
              "   PropType_1  PropType_2  PropType_3  PropType_4  ...  \\\n",
              "0       False       False       False       False  ...   \n",
              "1       False       False       False       False  ...   \n",
              "2       False       False       False        True  ...   \n",
              "3       False       False       False        True  ...   \n",
              "4       False       False       False        True  ...   \n",
              "\n",
              "   Bathrooms_Bathrooms: 6+  Hydro_N  Hydro_Y  Heat_N  Heat_Y  Water_N  \\\n",
              "0                    False     True    False   False    True    False   \n",
              "1                    False     True    False    True   False    False   \n",
              "2                    False     True    False   False    True    False   \n",
              "3                    False     True    False    True   False    False   \n",
              "4                    False     True    False   False    True    False   \n",
              "\n",
              "   Water_Y  Agreement_1 Year  Agreement_Month-to-month  \\\n",
              "0     True              True                     False   \n",
              "1     True              True                     False   \n",
              "2     True              True                     False   \n",
              "3     True              True                     False   \n",
              "4     True              True                     False   \n",
              "\n",
              "   Agreement_Not Available  \n",
              "0                    False  \n",
              "1                    False  \n",
              "2                    False  \n",
              "3                    False  \n",
              "4                    False  \n",
              "\n",
              "[5 rows x 41 columns]"
            ],
            "text/html": [
              "\n",
              "  <div id=\"df-826d3bc4-232d-42ee-8a2a-47c604d26934\" class=\"colab-df-container\">\n",
              "    <div>\n",
              "<style scoped>\n",
              "    .dataframe tbody tr th:only-of-type {\n",
              "        vertical-align: middle;\n",
              "    }\n",
              "\n",
              "    .dataframe tbody tr th {\n",
              "        vertical-align: top;\n",
              "    }\n",
              "\n",
              "    .dataframe thead th {\n",
              "        text-align: right;\n",
              "    }\n",
              "</style>\n",
              "<table border=\"1\" class=\"dataframe\">\n",
              "  <thead>\n",
              "    <tr style=\"text-align: right;\">\n",
              "      <th></th>\n",
              "      <th>Latitude</th>\n",
              "      <th>Price</th>\n",
              "      <th>Size</th>\n",
              "      <th>Population</th>\n",
              "      <th>Price_Category</th>\n",
              "      <th>PropType_0</th>\n",
              "      <th>PropType_1</th>\n",
              "      <th>PropType_2</th>\n",
              "      <th>PropType_3</th>\n",
              "      <th>PropType_4</th>\n",
              "      <th>...</th>\n",
              "      <th>Bathrooms_Bathrooms: 6+</th>\n",
              "      <th>Hydro_N</th>\n",
              "      <th>Hydro_Y</th>\n",
              "      <th>Heat_N</th>\n",
              "      <th>Heat_Y</th>\n",
              "      <th>Water_N</th>\n",
              "      <th>Water_Y</th>\n",
              "      <th>Agreement_1 Year</th>\n",
              "      <th>Agreement_Month-to-month</th>\n",
              "      <th>Agreement_Not Available</th>\n",
              "    </tr>\n",
              "  </thead>\n",
              "  <tbody>\n",
              "    <tr>\n",
              "      <th>0</th>\n",
              "      <td>45.256161</td>\n",
              "      <td>1425.0</td>\n",
              "      <td>950.000000</td>\n",
              "      <td>14211</td>\n",
              "      <td>Medium</td>\n",
              "      <td>True</td>\n",
              "      <td>False</td>\n",
              "      <td>False</td>\n",
              "      <td>False</td>\n",
              "      <td>False</td>\n",
              "      <td>...</td>\n",
              "      <td>False</td>\n",
              "      <td>True</td>\n",
              "      <td>False</td>\n",
              "      <td>False</td>\n",
              "      <td>True</td>\n",
              "      <td>False</td>\n",
              "      <td>True</td>\n",
              "      <td>True</td>\n",
              "      <td>False</td>\n",
              "      <td>False</td>\n",
              "    </tr>\n",
              "    <tr>\n",
              "      <th>1</th>\n",
              "      <td>45.192003</td>\n",
              "      <td>1100.0</td>\n",
              "      <td>780.000000</td>\n",
              "      <td>14211</td>\n",
              "      <td>low</td>\n",
              "      <td>True</td>\n",
              "      <td>False</td>\n",
              "      <td>False</td>\n",
              "      <td>False</td>\n",
              "      <td>False</td>\n",
              "      <td>...</td>\n",
              "      <td>False</td>\n",
              "      <td>True</td>\n",
              "      <td>False</td>\n",
              "      <td>True</td>\n",
              "      <td>False</td>\n",
              "      <td>False</td>\n",
              "      <td>True</td>\n",
              "      <td>True</td>\n",
              "      <td>False</td>\n",
              "      <td>False</td>\n",
              "    </tr>\n",
              "    <tr>\n",
              "      <th>2</th>\n",
              "      <td>45.146672</td>\n",
              "      <td>2700.0</td>\n",
              "      <td>693.228433</td>\n",
              "      <td>14211</td>\n",
              "      <td>High</td>\n",
              "      <td>False</td>\n",
              "      <td>False</td>\n",
              "      <td>False</td>\n",
              "      <td>False</td>\n",
              "      <td>True</td>\n",
              "      <td>...</td>\n",
              "      <td>False</td>\n",
              "      <td>True</td>\n",
              "      <td>False</td>\n",
              "      <td>False</td>\n",
              "      <td>True</td>\n",
              "      <td>False</td>\n",
              "      <td>True</td>\n",
              "      <td>True</td>\n",
              "      <td>False</td>\n",
              "      <td>False</td>\n",
              "    </tr>\n",
              "    <tr>\n",
              "      <th>3</th>\n",
              "      <td>45.143726</td>\n",
              "      <td>1200.0</td>\n",
              "      <td>900.000000</td>\n",
              "      <td>14211</td>\n",
              "      <td>low</td>\n",
              "      <td>False</td>\n",
              "      <td>False</td>\n",
              "      <td>False</td>\n",
              "      <td>False</td>\n",
              "      <td>True</td>\n",
              "      <td>...</td>\n",
              "      <td>False</td>\n",
              "      <td>True</td>\n",
              "      <td>False</td>\n",
              "      <td>True</td>\n",
              "      <td>False</td>\n",
              "      <td>False</td>\n",
              "      <td>True</td>\n",
              "      <td>True</td>\n",
              "      <td>False</td>\n",
              "      <td>False</td>\n",
              "    </tr>\n",
              "    <tr>\n",
              "      <th>4</th>\n",
              "      <td>45.068973</td>\n",
              "      <td>4000.0</td>\n",
              "      <td>693.228433</td>\n",
              "      <td>14211</td>\n",
              "      <td>High</td>\n",
              "      <td>False</td>\n",
              "      <td>False</td>\n",
              "      <td>False</td>\n",
              "      <td>False</td>\n",
              "      <td>True</td>\n",
              "      <td>...</td>\n",
              "      <td>False</td>\n",
              "      <td>True</td>\n",
              "      <td>False</td>\n",
              "      <td>False</td>\n",
              "      <td>True</td>\n",
              "      <td>False</td>\n",
              "      <td>True</td>\n",
              "      <td>True</td>\n",
              "      <td>False</td>\n",
              "      <td>False</td>\n",
              "    </tr>\n",
              "  </tbody>\n",
              "</table>\n",
              "<p>5 rows × 41 columns</p>\n",
              "</div>\n",
              "    <div class=\"colab-df-buttons\">\n",
              "\n",
              "  <div class=\"colab-df-container\">\n",
              "    <button class=\"colab-df-convert\" onclick=\"convertToInteractive('df-826d3bc4-232d-42ee-8a2a-47c604d26934')\"\n",
              "            title=\"Convert this dataframe to an interactive table.\"\n",
              "            style=\"display:none;\">\n",
              "\n",
              "  <svg xmlns=\"http://www.w3.org/2000/svg\" height=\"24px\" viewBox=\"0 -960 960 960\">\n",
              "    <path d=\"M120-120v-720h720v720H120Zm60-500h600v-160H180v160Zm220 220h160v-160H400v160Zm0 220h160v-160H400v160ZM180-400h160v-160H180v160Zm440 0h160v-160H620v160ZM180-180h160v-160H180v160Zm440 0h160v-160H620v160Z\"/>\n",
              "  </svg>\n",
              "    </button>\n",
              "\n",
              "  <style>\n",
              "    .colab-df-container {\n",
              "      display:flex;\n",
              "      gap: 12px;\n",
              "    }\n",
              "\n",
              "    .colab-df-convert {\n",
              "      background-color: #E8F0FE;\n",
              "      border: none;\n",
              "      border-radius: 50%;\n",
              "      cursor: pointer;\n",
              "      display: none;\n",
              "      fill: #1967D2;\n",
              "      height: 32px;\n",
              "      padding: 0 0 0 0;\n",
              "      width: 32px;\n",
              "    }\n",
              "\n",
              "    .colab-df-convert:hover {\n",
              "      background-color: #E2EBFA;\n",
              "      box-shadow: 0px 1px 2px rgba(60, 64, 67, 0.3), 0px 1px 3px 1px rgba(60, 64, 67, 0.15);\n",
              "      fill: #174EA6;\n",
              "    }\n",
              "\n",
              "    .colab-df-buttons div {\n",
              "      margin-bottom: 4px;\n",
              "    }\n",
              "\n",
              "    [theme=dark] .colab-df-convert {\n",
              "      background-color: #3B4455;\n",
              "      fill: #D2E3FC;\n",
              "    }\n",
              "\n",
              "    [theme=dark] .colab-df-convert:hover {\n",
              "      background-color: #434B5C;\n",
              "      box-shadow: 0px 1px 3px 1px rgba(0, 0, 0, 0.15);\n",
              "      filter: drop-shadow(0px 1px 2px rgba(0, 0, 0, 0.3));\n",
              "      fill: #FFFFFF;\n",
              "    }\n",
              "  </style>\n",
              "\n",
              "    <script>\n",
              "      const buttonEl =\n",
              "        document.querySelector('#df-826d3bc4-232d-42ee-8a2a-47c604d26934 button.colab-df-convert');\n",
              "      buttonEl.style.display =\n",
              "        google.colab.kernel.accessAllowed ? 'block' : 'none';\n",
              "\n",
              "      async function convertToInteractive(key) {\n",
              "        const element = document.querySelector('#df-826d3bc4-232d-42ee-8a2a-47c604d26934');\n",
              "        const dataTable =\n",
              "          await google.colab.kernel.invokeFunction('convertToInteractive',\n",
              "                                                    [key], {});\n",
              "        if (!dataTable) return;\n",
              "\n",
              "        const docLinkHtml = 'Like what you see? Visit the ' +\n",
              "          '<a target=\"_blank\" href=https://colab.research.google.com/notebooks/data_table.ipynb>data table notebook</a>'\n",
              "          + ' to learn more about interactive tables.';\n",
              "        element.innerHTML = '';\n",
              "        dataTable['output_type'] = 'display_data';\n",
              "        await google.colab.output.renderOutput(dataTable, element);\n",
              "        const docLink = document.createElement('div');\n",
              "        docLink.innerHTML = docLinkHtml;\n",
              "        element.appendChild(docLink);\n",
              "      }\n",
              "    </script>\n",
              "  </div>\n",
              "\n",
              "\n",
              "<div id=\"df-e903f504-289c-45bc-bebd-4f9d2885b369\">\n",
              "  <button class=\"colab-df-quickchart\" onclick=\"quickchart('df-e903f504-289c-45bc-bebd-4f9d2885b369')\"\n",
              "            title=\"Suggest charts\"\n",
              "            style=\"display:none;\">\n",
              "\n",
              "<svg xmlns=\"http://www.w3.org/2000/svg\" height=\"24px\"viewBox=\"0 0 24 24\"\n",
              "     width=\"24px\">\n",
              "    <g>\n",
              "        <path d=\"M19 3H5c-1.1 0-2 .9-2 2v14c0 1.1.9 2 2 2h14c1.1 0 2-.9 2-2V5c0-1.1-.9-2-2-2zM9 17H7v-7h2v7zm4 0h-2V7h2v10zm4 0h-2v-4h2v4z\"/>\n",
              "    </g>\n",
              "</svg>\n",
              "  </button>\n",
              "\n",
              "<style>\n",
              "  .colab-df-quickchart {\n",
              "      --bg-color: #E8F0FE;\n",
              "      --fill-color: #1967D2;\n",
              "      --hover-bg-color: #E2EBFA;\n",
              "      --hover-fill-color: #174EA6;\n",
              "      --disabled-fill-color: #AAA;\n",
              "      --disabled-bg-color: #DDD;\n",
              "  }\n",
              "\n",
              "  [theme=dark] .colab-df-quickchart {\n",
              "      --bg-color: #3B4455;\n",
              "      --fill-color: #D2E3FC;\n",
              "      --hover-bg-color: #434B5C;\n",
              "      --hover-fill-color: #FFFFFF;\n",
              "      --disabled-bg-color: #3B4455;\n",
              "      --disabled-fill-color: #666;\n",
              "  }\n",
              "\n",
              "  .colab-df-quickchart {\n",
              "    background-color: var(--bg-color);\n",
              "    border: none;\n",
              "    border-radius: 50%;\n",
              "    cursor: pointer;\n",
              "    display: none;\n",
              "    fill: var(--fill-color);\n",
              "    height: 32px;\n",
              "    padding: 0;\n",
              "    width: 32px;\n",
              "  }\n",
              "\n",
              "  .colab-df-quickchart:hover {\n",
              "    background-color: var(--hover-bg-color);\n",
              "    box-shadow: 0 1px 2px rgba(60, 64, 67, 0.3), 0 1px 3px 1px rgba(60, 64, 67, 0.15);\n",
              "    fill: var(--button-hover-fill-color);\n",
              "  }\n",
              "\n",
              "  .colab-df-quickchart-complete:disabled,\n",
              "  .colab-df-quickchart-complete:disabled:hover {\n",
              "    background-color: var(--disabled-bg-color);\n",
              "    fill: var(--disabled-fill-color);\n",
              "    box-shadow: none;\n",
              "  }\n",
              "\n",
              "  .colab-df-spinner {\n",
              "    border: 2px solid var(--fill-color);\n",
              "    border-color: transparent;\n",
              "    border-bottom-color: var(--fill-color);\n",
              "    animation:\n",
              "      spin 1s steps(1) infinite;\n",
              "  }\n",
              "\n",
              "  @keyframes spin {\n",
              "    0% {\n",
              "      border-color: transparent;\n",
              "      border-bottom-color: var(--fill-color);\n",
              "      border-left-color: var(--fill-color);\n",
              "    }\n",
              "    20% {\n",
              "      border-color: transparent;\n",
              "      border-left-color: var(--fill-color);\n",
              "      border-top-color: var(--fill-color);\n",
              "    }\n",
              "    30% {\n",
              "      border-color: transparent;\n",
              "      border-left-color: var(--fill-color);\n",
              "      border-top-color: var(--fill-color);\n",
              "      border-right-color: var(--fill-color);\n",
              "    }\n",
              "    40% {\n",
              "      border-color: transparent;\n",
              "      border-right-color: var(--fill-color);\n",
              "      border-top-color: var(--fill-color);\n",
              "    }\n",
              "    60% {\n",
              "      border-color: transparent;\n",
              "      border-right-color: var(--fill-color);\n",
              "    }\n",
              "    80% {\n",
              "      border-color: transparent;\n",
              "      border-right-color: var(--fill-color);\n",
              "      border-bottom-color: var(--fill-color);\n",
              "    }\n",
              "    90% {\n",
              "      border-color: transparent;\n",
              "      border-bottom-color: var(--fill-color);\n",
              "    }\n",
              "  }\n",
              "</style>\n",
              "\n",
              "  <script>\n",
              "    async function quickchart(key) {\n",
              "      const quickchartButtonEl =\n",
              "        document.querySelector('#' + key + ' button');\n",
              "      quickchartButtonEl.disabled = true;  // To prevent multiple clicks.\n",
              "      quickchartButtonEl.classList.add('colab-df-spinner');\n",
              "      try {\n",
              "        const charts = await google.colab.kernel.invokeFunction(\n",
              "            'suggestCharts', [key], {});\n",
              "      } catch (error) {\n",
              "        console.error('Error during call to suggestCharts:', error);\n",
              "      }\n",
              "      quickchartButtonEl.classList.remove('colab-df-spinner');\n",
              "      quickchartButtonEl.classList.add('colab-df-quickchart-complete');\n",
              "    }\n",
              "    (() => {\n",
              "      let quickchartButtonEl =\n",
              "        document.querySelector('#df-e903f504-289c-45bc-bebd-4f9d2885b369 button');\n",
              "      quickchartButtonEl.style.display =\n",
              "        google.colab.kernel.accessAllowed ? 'block' : 'none';\n",
              "    })();\n",
              "  </script>\n",
              "</div>\n",
              "\n",
              "    </div>\n",
              "  </div>\n"
            ],
            "application/vnd.google.colaboratory.intrinsic+json": {
              "type": "dataframe",
              "variable_name": "df_encoded"
            }
          },
          "metadata": {},
          "execution_count": 19
        }
      ],
      "source": [
        "df_encoded.head()"
      ]
    },
    {
      "cell_type": "code",
      "execution_count": 20,
      "metadata": {
        "id": "OeEhSF98-9jF"
      },
      "outputs": [],
      "source": [
        "y = df_encoded[\"Price_Category\"]\n",
        "X = df_encoded.drop([\"Price_Category\"], axis=1)"
      ]
    },
    {
      "cell_type": "code",
      "execution_count": 21,
      "metadata": {
        "id": "CVz8qFR1Cca1"
      },
      "outputs": [],
      "source": [
        "# Split the data into training and testing sets\n",
        "X_train, X_test, y_train, y_test = train_test_split(X, y, test_size=0.2, random_state=42)\n",
        "\n",
        "# A scaler: StandardScaler()\n",
        "scaler = StandardScaler()\n",
        "# Fit the scaler to the training data and transform it\n",
        "X_train = scaler.fit_transform(X_train)\n",
        "\n",
        "# Transform the testing data using the fitted scaler\n",
        "X_test = scaler.transform(X_test)"
      ]
    },
    {
      "cell_type": "code",
      "execution_count": 22,
      "metadata": {
        "id": "QsadDRe-EhvG"
      },
      "outputs": [],
      "source": [
        "from sklearn.preprocessing import StandardScaler\n",
        "scaler = StandardScaler()\n",
        "# Fit the scaler to the training data and transform it\n",
        "X_train = scaler.fit_transform(X_train)\n",
        "\n",
        "# Transform the testing data using the fitted scaler\n",
        "X_test = scaler.transform(X_test)"
      ]
    },
    {
      "cell_type": "code",
      "execution_count": 23,
      "metadata": {
        "id": "QkN2Ez6TDPn-"
      },
      "outputs": [],
      "source": [
        "X_scaled = X"
      ]
    },
    {
      "cell_type": "code",
      "execution_count": 24,
      "metadata": {
        "colab": {
          "base_uri": "https://localhost:8080/"
        },
        "id": "yezt5ucaIzyn",
        "outputId": "c5f5e4ae-a922-4498-9e13-9081a13f3a8c"
      },
      "outputs": [
        {
          "output_type": "execute_result",
          "data": {
            "text/plain": [
              "dtype('O')"
            ]
          },
          "metadata": {},
          "execution_count": 24
        }
      ],
      "source": [
        "y.dtypes"
      ]
    },
    {
      "cell_type": "markdown",
      "source": [
        "# This code trains a logistic regression model, evaluates its performance using accuracy, and provides a detailed classification report containing additional performance metrics.\n",
        "\n",
        "\n",
        "\n",
        "\n",
        "\n"
      ],
      "metadata": {
        "id": "soMN_XXYbzmz"
      }
    },
    {
      "cell_type": "code",
      "execution_count": 25,
      "metadata": {
        "colab": {
          "base_uri": "https://localhost:8080/"
        },
        "id": "uXc5qHOGGAin",
        "outputId": "794852ea-41a4-43ab-d693-1c9a9be9f603"
      },
      "outputs": [
        {
          "output_type": "stream",
          "name": "stdout",
          "text": [
            "Logistic Regression : 0.9953370895667379\n",
            "Classification Report:               precision    recall  f1-score   support\n",
            "\n",
            "        High       1.00      0.99      1.00      2559\n",
            "      Medium       0.99      1.00      0.99      1868\n",
            "         low       0.99      1.00      1.00       720\n",
            "\n",
            "    accuracy                           1.00      5147\n",
            "   macro avg       0.99      1.00      1.00      5147\n",
            "weighted avg       1.00      1.00      1.00      5147\n",
            "\n"
          ]
        }
      ],
      "source": [
        "from sklearn.metrics import classification_report\n",
        "logreg = LogisticRegression(max_iter=1000)\n",
        "logreg.fit(X_train, y_train)\n",
        "y_pred = logreg.predict(X_test)\n",
        "accuracylg = accuracy_score(y_test, y_pred)\n",
        "print(\"Logistic Regression :\", accuracylg)\n",
        "report = classification_report(y_test, y_pred)\n",
        "print(\"Classification Report:\", report)"
      ]
    },
    {
      "cell_type": "markdown",
      "source": [
        "- This code assesses the performance of the logistic regression model using k-fold cross-validation, where the data is split into 5 folds, shuffled, and the model is trained and evaluated on each fold"
      ],
      "metadata": {
        "id": "dEP61DzgcFPy"
      }
    },
    {
      "cell_type": "code",
      "execution_count": null,
      "metadata": {
        "id": "wi_kLIljOzTs"
      },
      "outputs": [],
      "source": [
        "kf1 = KFold(n_splits=9 shuffle=True, random_state=42)\n",
        "cv_scores_kf1 = cross_val_score(logreg, X_scaled, y, cv=kf1)\n",
        "print(\"Cross-validation scores (KFold 1):\", np.mean(cv_scores_kf1))"
      ]
    },
    {
      "cell_type": "code",
      "source": [
        "from sklearn.model_selection import GridSearchCV\n",
        "from sklearn.linear_model import LogisticRegression\n",
        "from sklearn.metrics import accuracy_score\n",
        "\n",
        "# Define a smaller parameter grid for hyperparameter tuning\n",
        "param_grid = {\n",
        "    'C': [0.1, 1, 10],          # Reduced regularization parameter options\n",
        "    'penalty': ['l1', 'l2'],    # Penalty term\n",
        "    'solver': ['liblinear']     # Use only 'liblinear' solver\n",
        "}\n",
        "\n",
        "# Perform grid search with cross-validation\n",
        "grid_search = GridSearchCV(LogisticRegression(max_iter=1000), param_grid, cv=None, scoring='accuracy')\n",
        "grid_search.fit(X_scaled, y)\n",
        "\n",
        "# Get the best logistic regression model\n",
        "best_logreg_model = grid_search.best_estimator_\n",
        "\n",
        "# Predict on the test set\n",
        "y_pred = best_logreg_model.predict(X_test)\n",
        "\n",
        "# Calculate accuracy\n",
        "accuracy_lgscv = accuracy_score(y_test, y_pred)\n",
        "\n",
        "# Print the best parameters found\n",
        "print(\"Best Parameters:\", grid_search.best_params_)\n",
        "\n",
        "# Get the mean cross-validation score for the best model\n",
        "print(\"Mean Cross-validation Score:\", grid_search.best_score_)\n"
      ],
      "metadata": {
        "colab": {
          "base_uri": "https://localhost:8080/"
        },
        "id": "CTETRMSIEXt-",
        "outputId": "3f45f93e-0e64-4981-c9f0-8717129673cc"
      },
      "execution_count": 27,
      "outputs": [
        {
          "output_type": "stream",
          "name": "stdout",
          "text": [
            "Best Parameters: {'C': 1, 'penalty': 'l1', 'solver': 'liblinear'}\n",
            "Mean Cross-validation Score: 0.9800638983039713\n"
          ]
        },
        {
          "output_type": "stream",
          "name": "stderr",
          "text": [
            "/usr/local/lib/python3.10/dist-packages/sklearn/base.py:439: UserWarning: X does not have valid feature names, but LogisticRegression was fitted with feature names\n",
            "  warnings.warn(\n"
          ]
        }
      ]
    },
    {
      "cell_type": "code",
      "source": [
        "\n",
        "from sklearn.neighbors import KNeighborsClassifier\n",
        "\n",
        "# Create KNN classifier\n",
        "knn = KNeighborsClassifier()\n",
        "\n",
        "# Fit the model\n",
        "knn.fit(X_train, y_train)\n",
        "\n",
        "# Predict on the test set\n",
        "y_pred_knn = knn.predict(X_test)\n",
        "\n",
        "# Calculate accuracy\n",
        "accuracy_knn = accuracy_score(y_test, y_pred_knn)\n",
        "\n",
        "# Print accuracy\n",
        "print(\"KNN Accuracy:\", accuracy_knn)\n",
        "\n",
        "# Generate classification report\n",
        "report_knn = classification_report(y_test, y_pred_knn)\n",
        "print(\"KNN Classification Report:\")\n",
        "print(report_knn)\n"
      ],
      "metadata": {
        "colab": {
          "base_uri": "https://localhost:8080/"
        },
        "id": "7RwqnyNzIrH-",
        "outputId": "81d13805-dc1b-4cc5-c089-2c9a25ad8f40"
      },
      "execution_count": 28,
      "outputs": [
        {
          "output_type": "stream",
          "name": "stdout",
          "text": [
            "KNN Accuracy: 0.8612784146104527\n",
            "KNN Classification Report:\n",
            "              precision    recall  f1-score   support\n",
            "\n",
            "        High       0.91      0.93      0.92      2559\n",
            "      Medium       0.81      0.83      0.82      1868\n",
            "         low       0.83      0.71      0.76       720\n",
            "\n",
            "    accuracy                           0.86      5147\n",
            "   macro avg       0.85      0.82      0.83      5147\n",
            "weighted avg       0.86      0.86      0.86      5147\n",
            "\n"
          ]
        }
      ]
    },
    {
      "cell_type": "code",
      "source": [
        "from sklearn.model_selection import cross_val_score, KFold\n",
        "from sklearn.neighbors import KNeighborsClassifier\n",
        "\n",
        "# Define KNN classifier\n",
        "knn = KNeighborsClassifier()\n",
        "\n",
        "# Initialize KFold cross-validator\n",
        "kf = KFold(n_splits=5, shuffle=True, random_state=42)\n",
        "\n",
        "# Perform cross-validation\n",
        "cv_scores_knn = cross_val_score(knn, X_scaled, y, cv=kf)\n",
        "\n",
        "# Print mean cross-validation score\n",
        "print(\"Mean Cross-validation Score (KNN):\", np.mean(cv_scores_knn))\n"
      ],
      "metadata": {
        "colab": {
          "base_uri": "https://localhost:8080/"
        },
        "id": "fpJuuml_JbXP",
        "outputId": "8776e261-0e95-45b5-9bd6-5724a031a3c2"
      },
      "execution_count": 29,
      "outputs": [
        {
          "output_type": "stream",
          "name": "stdout",
          "text": [
            "Mean Cross-validation Score (KNN): 0.9865925165845102\n"
          ]
        }
      ]
    },
    {
      "cell_type": "code",
      "source": [
        "from sklearn.model_selection import GridSearchCV\n",
        "from sklearn.neighbors import KNeighborsClassifier\n",
        "from sklearn.metrics import accuracy_score\n",
        "\n",
        "# Define the parameter grid for KNN hyperparameter tuning\n",
        "param_grid_knn = {\n",
        "    'n_neighbors': [3, 5, 7],   # Number of neighbors\n",
        "    'weights': ['uniform', 'distance'],  # Weight function\n",
        "    'algorithm': ['auto', 'ball_tree', 'kd_tree', 'brute'],  # Algorithm to compute nearest neighbors\n",
        "}\n",
        "\n",
        "# Perform grid search with cross-validation for KNN\n",
        "grid_search_knn = GridSearchCV(KNeighborsClassifier(), param_grid_knn, cv=None, scoring='accuracy')\n",
        "grid_search_knn.fit(X_scaled, y)\n",
        "\n",
        "# Get the best KNN model\n",
        "best_knn_model = grid_search_knn.best_estimator_\n",
        "\n",
        "# Predict on the test set\n",
        "y_pred_knn = best_knn_model.predict(X_test)\n",
        "\n",
        "# Calculate accuracy\n",
        "accuracy_knn = accuracy_score(y_test, y_pred_knn)\n",
        "\n",
        "# Print the best parameters found for KNN\n",
        "print(\"Best Parameters (KNN):\", grid_search_knn.best_params_)\n",
        "\n",
        "# Get the mean cross-vali\n"
      ],
      "metadata": {
        "colab": {
          "base_uri": "https://localhost:8080/"
        },
        "id": "rTR0yMwCKAyZ",
        "outputId": "d70d71cf-75ef-48c8-9bc9-28be6e0e1134"
      },
      "execution_count": 30,
      "outputs": [
        {
          "output_type": "stream",
          "name": "stderr",
          "text": [
            "/usr/local/lib/python3.10/dist-packages/sklearn/base.py:439: UserWarning: X does not have valid feature names, but KNeighborsClassifier was fitted with feature names\n",
            "  warnings.warn(\n"
          ]
        },
        {
          "output_type": "stream",
          "name": "stdout",
          "text": [
            "Best Parameters (KNN): {'algorithm': 'auto', 'n_neighbors': 7, 'weights': 'uniform'}\n"
          ]
        }
      ]
    },
    {
      "cell_type": "code",
      "source": [
        "from sklearn.tree import DecisionTreeClassifier\n",
        "\n",
        "# Create Decision Tree classifier\n",
        "dt = DecisionTreeClassifier()\n",
        "\n",
        "# Fit the model\n",
        "dt.fit(X_train, y_train)\n",
        "\n",
        "# Predict on the test set\n",
        "y_pred_dt = dt.predict(X_test)\n",
        "\n",
        "# Calculate accuracy\n",
        "accuracy_dt = accuracy_score(y_test, y_pred_dt)\n",
        "\n",
        "# Print accuracy\n",
        "print(\"Decision Tree Accuracy:\", accuracy_dt)\n",
        "\n",
        "# Generate classification report\n",
        "report_dt = classification_report(y_test, y_pred_dt)\n",
        "print(\"Decision Tree Classification Report:\")\n",
        "print(report_dt)\n"
      ],
      "metadata": {
        "colab": {
          "base_uri": "https://localhost:8080/"
        },
        "id": "R1PsY0vSIxi7",
        "outputId": "d265863a-6bbc-443a-9056-706a462d3c38"
      },
      "execution_count": 31,
      "outputs": [
        {
          "output_type": "stream",
          "name": "stdout",
          "text": [
            "Decision Tree Accuracy: 1.0\n",
            "Decision Tree Classification Report:\n",
            "              precision    recall  f1-score   support\n",
            "\n",
            "        High       1.00      1.00      1.00      2559\n",
            "      Medium       1.00      1.00      1.00      1868\n",
            "         low       1.00      1.00      1.00       720\n",
            "\n",
            "    accuracy                           1.00      5147\n",
            "   macro avg       1.00      1.00      1.00      5147\n",
            "weighted avg       1.00      1.00      1.00      5147\n",
            "\n"
          ]
        }
      ]
    },
    {
      "cell_type": "code",
      "source": [
        "from sklearn.tree import DecisionTreeClassifier\n",
        "\n",
        "# Define Decision Tree classifier\n",
        "dt = DecisionTreeClassifier()\n",
        "\n",
        "# Perform cross-validation\n",
        "cv_scores_dt = cross_val_score(dt, X_scaled, y, cv=kf)\n",
        "\n",
        "# Print mean cross-validation score\n",
        "print(\"Mean Cross-validation Score (Decision Tree):\", np.mean(cv_scores_dt))\n"
      ],
      "metadata": {
        "colab": {
          "base_uri": "https://localhost:8080/"
        },
        "id": "vgoFsSPRJggy",
        "outputId": "c246ba20-bf79-4241-c8b2-63f72daf619b"
      },
      "execution_count": 32,
      "outputs": [
        {
          "output_type": "stream",
          "name": "stdout",
          "text": [
            "Mean Cross-validation Score (Decision Tree): 1.0\n"
          ]
        }
      ]
    },
    {
      "cell_type": "code",
      "source": [
        "from sklearn.model_selection import GridSearchCV\n",
        "from sklearn.tree import DecisionTreeClassifier\n",
        "from sklearn.metrics import accuracy_score\n",
        "\n",
        "# Define the parameter grid for Decision Tree hyperparameter tuning\n",
        "param_grid_dt = {\n",
        "    'criterion': ['gini', 'entropy'],   # Split criterion\n",
        "    'max_depth': [None, 10, 20, 30],     # Maximum depth of the tree\n",
        "    'min_samples_split': [2, 5, 10],     # Minimum number of samples required to split a node\n",
        "    'min_samples_leaf': [1, 2, 4]        # Minimum number of samples required at each leaf node\n",
        "}\n",
        "\n",
        "# Perform grid search with cross-validation for Decision Tree\n",
        "grid_search_dt = GridSearchCV(DecisionTreeClassifier(), param_grid_dt, cv=None, scoring='accuracy')\n",
        "grid_search_dt.fit(X_scaled, y)\n",
        "\n",
        "# Get the best Decision Tree model\n",
        "best_dt_model = grid_search_dt.best_estimator_\n",
        "\n",
        "# Predict on the test set\n",
        "y_pred_dt = best_dt_model.predict(X_test)\n",
        "\n",
        "# Calculate accuracy\n",
        "accuracy_dt = accuracy_score(y_test, y_pred_dt)\n",
        "\n",
        "# Print the best parameters found for Decision Tree\n",
        "print(\"Best Parameters (Decision Tree):\", grid_search_dt.best_params_)\n",
        "\n",
        "# Get the mean cross-validation score for the best Decision Tree model\n",
        "print(\"Mean Cross-validation Score (Decision Tree):\", grid_search_dt.best_score_)\n"
      ],
      "metadata": {
        "colab": {
          "base_uri": "https://localhost:8080/"
        },
        "id": "Wosm2GphM89H",
        "outputId": "940bad3c-ec4a-401a-d092-27a5f343fd55"
      },
      "execution_count": 33,
      "outputs": [
        {
          "output_type": "stream",
          "name": "stdout",
          "text": [
            "Best Parameters (Decision Tree): {'criterion': 'gini', 'max_depth': None, 'min_samples_leaf': 1, 'min_samples_split': 2}\n",
            "Mean Cross-validation Score (Decision Tree): 1.0\n"
          ]
        },
        {
          "output_type": "stream",
          "name": "stderr",
          "text": [
            "/usr/local/lib/python3.10/dist-packages/sklearn/base.py:439: UserWarning: X does not have valid feature names, but DecisionTreeClassifier was fitted with feature names\n",
            "  warnings.warn(\n"
          ]
        }
      ]
    },
    {
      "cell_type": "code",
      "source": [
        "from sklearn.ensemble import RandomForestClassifier\n",
        "\n",
        "# Create Random Forest classifier\n",
        "rf = RandomForestClassifier()\n",
        "\n",
        "# Fit the model\n",
        "rf.fit(X_train, y_train)\n",
        "\n",
        "# Predict on the test set\n",
        "y_pred_rf = rf.predict(X_test)\n",
        "\n",
        "# Calculate accuracy\n",
        "accuracy_rf = accuracy_score(y_test, y_pred_rf)\n",
        "\n",
        "# Print accuracy\n",
        "print(\"Random Forest Accuracy:\", accuracy_rf)\n",
        "\n",
        "# Generate classification report\n",
        "report_rf = classification_report(y_test, y_pred_rf)\n",
        "print(\"Random Forest Classification Report:\")\n",
        "print(report_rf)\n"
      ],
      "metadata": {
        "colab": {
          "base_uri": "https://localhost:8080/"
        },
        "id": "BOGZzHm1I4P6",
        "outputId": "fbbe4544-61c5-4419-9904-b6feb43e9a1e"
      },
      "execution_count": 34,
      "outputs": [
        {
          "output_type": "stream",
          "name": "stdout",
          "text": [
            "Random Forest Accuracy: 1.0\n",
            "Random Forest Classification Report:\n",
            "              precision    recall  f1-score   support\n",
            "\n",
            "        High       1.00      1.00      1.00      2559\n",
            "      Medium       1.00      1.00      1.00      1868\n",
            "         low       1.00      1.00      1.00       720\n",
            "\n",
            "    accuracy                           1.00      5147\n",
            "   macro avg       1.00      1.00      1.00      5147\n",
            "weighted avg       1.00      1.00      1.00      5147\n",
            "\n"
          ]
        }
      ]
    },
    {
      "cell_type": "code",
      "source": [
        "from sklearn.ensemble import RandomForestClassifier\n",
        "\n",
        "# Define Random Forest classifier\n",
        "rf = RandomForestClassifier()\n",
        "\n",
        "# Perform cross-validation\n",
        "cv_scores_rf = cross_val_score(rf, X_scaled, y, cv=kf)\n",
        "\n",
        "# Print mean cross-validation score\n",
        "print(\"Mean Cross-validation Score (Random Forest):\", np.mean(cv_scores_rf))\n"
      ],
      "metadata": {
        "colab": {
          "base_uri": "https://localhost:8080/"
        },
        "id": "N_qvybaNJl03",
        "outputId": "133dca54-211f-406c-e362-8f72693b0401"
      },
      "execution_count": 35,
      "outputs": [
        {
          "output_type": "stream",
          "name": "stdout",
          "text": [
            "Mean Cross-validation Score (Random Forest): 0.9996502439623682\n"
          ]
        }
      ]
    },
    {
      "cell_type": "code",
      "source": [
        "from sklearn.model_selection import GridSearchCV\n",
        "from sklearn.ensemble import RandomForestClassifier\n",
        "from sklearn.metrics import accuracy_score\n",
        "\n",
        "# Define a smaller parameter grid for Random Forest hyperparameter tuning\n",
        "param_grid_rf = {\n",
        "    'n_estimators': [50, 100],           # Number of trees in the forest\n",
        "    'max_depth': [None, 10],             # Maximum depth of the tree\n",
        "    'min_samples_split': [2, 5],         # Minimum number of samples required to split a node\n",
        "    'min_samples_leaf': [1, 2]           # Minimum number of samples required at each leaf node\n",
        "}\n",
        "\n",
        "# Perform grid search with cross-validation for Random Forest\n",
        "grid_search_rf = GridSearchCV(RandomForestClassifier(), param_grid_rf, cv=None, scoring='accuracy')\n",
        "grid_search_rf.fit(X_scaled, y)\n",
        "\n",
        "# Get the best Random Forest model\n",
        "best_rf_model = grid_search_rf.best_estimator_\n",
        "\n",
        "# Predict on the test set\n",
        "y_pred_rf = best_rf_model.predict(X_test)\n",
        "\n",
        "# Calculate accuracy\n",
        "accuracy_rf = accuracy_score(y_test, y_pred_rf)\n",
        "\n",
        "# Print the best parameters found for Random Forest\n",
        "print(\"Best Parameters for Random Forest:\", grid_search_rf.best_params_)\n",
        "\n",
        "# Get the mean cross-validation score for the best Random Forest model\n",
        "print(\"Mean Cross-validation Score for Random Forest:\", grid_search_rf.best_score_)\n",
        "\n"
      ],
      "metadata": {
        "id": "_A3VYpP5NDBS"
      },
      "execution_count": null,
      "outputs": []
    },
    {
      "cell_type": "code",
      "source": [
        "from sklearn.ensemble import GradientBoostingClassifier\n",
        "\n",
        "# Create Gradient Boosting classifier\n",
        "gb = GradientBoostingClassifier()\n",
        "\n",
        "# Fit the model\n",
        "gb.fit(X_train, y_train)\n",
        "\n",
        "# Predict on the test set\n",
        "y_pred_gb = gb.predict(X_test)\n",
        "\n",
        "# Calculate accuracy\n",
        "accuracy_gb = accuracy_score(y_test, y_pred_gb)\n",
        "\n",
        "# Print accuracy\n",
        "print(\"Gradient Boosting Accuracy:\", accuracy_gb)\n",
        "\n",
        "# Generate classification report\n",
        "report_gb = classification_report(y_test, y_pred_gb)\n",
        "print(\"Gradient Boosting Classification Report:\")\n",
        "print(report_gb)\n"
      ],
      "metadata": {
        "id": "93pTKSaOI8su"
      },
      "execution_count": null,
      "outputs": []
    },
    {
      "cell_type": "code",
      "source": [
        "from sklearn.ensemble import GradientBoostingClassifier\n",
        "\n",
        "# Define Gradient Boosting classifier\n",
        "gb = GradientBoostingClassifier()\n",
        "\n",
        "# Perform cross-validation\n",
        "cv_scores_gb = cross_val_score(gb, X_scaled, y, cv=kf)\n",
        "\n",
        "# Print mean cross-validation score\n",
        "print(\"Mean Cross-validation Score (Gradient Boosting):\", np.mean(cv_scores_gb))\n"
      ],
      "metadata": {
        "id": "Y6n9DzLaJp_i"
      },
      "execution_count": null,
      "outputs": []
    },
    {
      "cell_type": "code",
      "source": [
        "from sklearn.model_selection import GridSearchCV\n",
        "from sklearn.ensemble import GradientBoostingClassifier\n",
        "from sklearn.metrics import accuracy_score\n",
        "\n",
        "# Define a smaller parameter grid for Gradient Boosting hyperparameter tuning\n",
        "param_grid_gb = {\n",
        "    'n_estimators': [50, 100],          # Number of boosting stages\n",
        "    'learning_rate': [0.01, 0.1],       # Learning rate shrinks the contribution of each tree\n",
        "    'max_depth': [3, 5],                # Maximum depth of the individual trees\n",
        "    'min_samples_split': [2, 5],        # Minimum number of samples required to split a node\n",
        "    'min_samples_leaf': [1, 2]          # Minimum number of samples required at each leaf node\n",
        "}\n",
        "\n",
        "# Perform grid search with cross-validation for Gradient Boosting\n",
        "grid_search_gb = GridSearchCV(GradientBoostingClassifier(), param_grid_gb, cv=None, scoring='accuracy')\n",
        "grid_search_gb.fit(X_scaled, y)\n",
        "\n",
        "# Get the best Gradient Boosting model\n",
        "best_gb_model = grid_search_gb.best_estimator_\n",
        "\n",
        "# Predict on the test set\n",
        "y_pred_gb = best_gb_model.predict(X_test)\n",
        "\n",
        "# Calculate accuracy\n",
        "accuracy_gb = accuracy_score(y_test, y_pred_gb)\n",
        "\n",
        "# Print the best parameters found for Gradient Boosting\n",
        "print(\"Best Parameters for Gradient Boosting:\", grid_search_gb.best_params_)\n",
        "\n",
        "# Get the mean cross-validation score for the best Gradient Boosting model\n",
        "print(\"Mean Cross-validation Score for Gradient Boosting:\", grid_search_gb.best_score_)\n"
      ],
      "metadata": {
        "id": "Ift_bk98UhkM"
      },
      "execution_count": null,
      "outputs": []
    }
  ],
  "metadata": {
    "colab": {
      "provenance": []
    },
    "kernelspec": {
      "display_name": "Python 3",
      "name": "python3"
    },
    "language_info": {
      "name": "python"
    }
  },
  "nbformat": 4,
  "nbformat_minor": 0
}